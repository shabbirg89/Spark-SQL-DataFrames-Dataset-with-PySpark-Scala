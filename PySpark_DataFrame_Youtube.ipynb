{
 "cells": [
  {
   "cell_type": "code",
   "execution_count": 1,
   "metadata": {},
   "outputs": [],
   "source": [
    "#Locate Spark in Jupyter notebook using findspark\n",
    "#!pip install findspark\n",
    "import findspark\n",
    "findspark.init()"
   ]
  },
  {
   "cell_type": "code",
   "execution_count": 2,
   "metadata": {},
   "outputs": [],
   "source": [
    "#Import SparkContext, SparkConf, SparkConf\n",
    "from pyspark import SparkContext, SparkConf\n",
    "from pyspark.sql import SparkSession"
   ]
  },
  {
   "cell_type": "code",
   "execution_count": 3,
   "metadata": {},
   "outputs": [],
   "source": [
    "#Create a object of spark context\n",
    "sc = SparkContext()"
   ]
  },
  {
   "cell_type": "code",
   "execution_count": 4,
   "metadata": {},
   "outputs": [],
   "source": [
    "#Create object of spark session\n",
    "spark = SparkSession.builder.getOrCreate()"
   ]
  },
  {
   "cell_type": "code",
   "execution_count": 5,
   "metadata": {},
   "outputs": [],
   "source": [
    "#Alias name to spark session\n",
    "ss = spark"
   ]
  },
  {
   "cell_type": "code",
   "execution_count": 7,
   "metadata": {},
   "outputs": [
    {
     "data": {
      "text/plain": [
       "[Row(_1='Alice', _2=1)]"
      ]
     },
     "execution_count": 7,
     "metadata": {},
     "output_type": "execute_result"
    }
   ],
   "source": [
    "#List to spark dataframe\n",
    "l = [('Alice', 1)]\n",
    "ss.createDataFrame(l).collect()\n",
    "#ss.createDataFrame(l).show()"
   ]
  },
  {
   "cell_type": "code",
   "execution_count": 8,
   "metadata": {},
   "outputs": [
    {
     "name": "stdout",
     "output_type": "stream",
     "text": [
      "+-----+---+\n",
      "| name|age|\n",
      "+-----+---+\n",
      "|Alice|  1|\n",
      "+-----+---+\n",
      "\n"
     ]
    }
   ],
   "source": [
    "#Adding column heading to the Dataframe\n",
    "#ss.createDataFrame(l, ['name', 'age']).collect()\n",
    "ss.createDataFrame(l, ['name', 'age']).show()"
   ]
  },
  {
   "cell_type": "code",
   "execution_count": 9,
   "metadata": {},
   "outputs": [
    {
     "name": "stdout",
     "output_type": "stream",
     "text": [
      "+-----+---+\n",
      "| name|age|\n",
      "+-----+---+\n",
      "|Alice|  1|\n",
      "+-----+---+\n",
      "\n"
     ]
    }
   ],
   "source": [
    "#Convert an RDD to a spark Dataframe\n",
    "rdd = sc.parallelize(l)\n",
    "spark.createDataFrame(rdd).collect()\n",
    "df = spark.createDataFrame(rdd, ['name', 'age'])\n",
    "df.show()"
   ]
  },
  {
   "cell_type": "code",
   "execution_count": 10,
   "metadata": {},
   "outputs": [
    {
     "name": "stdout",
     "output_type": "stream",
     "text": [
      "+-----+---+\n",
      "| name|age|\n",
      "+-----+---+\n",
      "|Alice|  1|\n",
      "+-----+---+\n",
      "\n"
     ]
    }
   ],
   "source": [
    "#working with spark rows\n",
    "from pyspark.sql import Row\n",
    "Person = Row('name', 'age')\n",
    "person = rdd.map(lambda r: Person(*r))\n",
    "df2 = spark.createDataFrame(person)\n",
    "df2.show()"
   ]
  },
  {
   "cell_type": "code",
   "execution_count": 11,
   "metadata": {},
   "outputs": [
    {
     "name": "stdout",
     "output_type": "stream",
     "text": [
      "+-----+---+\n",
      "| name|age|\n",
      "+-----+---+\n",
      "|Alice|  1|\n",
      "+-----+---+\n",
      "\n"
     ]
    }
   ],
   "source": [
    "#Create user defined schema for dataframe and creation of dataframe from the above rdd\n",
    "from pyspark.sql.types import *\n",
    "schema = StructType([\n",
    "   StructField(\"name\", StringType(), True),\n",
    "   StructField(\"age\", IntegerType(), True)])\n",
    "df3 = spark.createDataFrame(rdd, schema)\n",
    "df3.show()"
   ]
  },
  {
   "cell_type": "code",
   "execution_count": 12,
   "metadata": {},
   "outputs": [
    {
     "name": "stdout",
     "output_type": "stream",
     "text": [
      "+-----+---+\n",
      "| name|age|\n",
      "+-----+---+\n",
      "|Alice|  1|\n",
      "+-----+---+\n",
      "\n"
     ]
    }
   ],
   "source": [
    "#convert a pandas object to spark dataframe\n",
    "ss.createDataFrame(df.toPandas()).show()"
   ]
  },
  {
   "cell_type": "code",
   "execution_count": 13,
   "metadata": {},
   "outputs": [],
   "source": [
    "#Initialize Dataframe reader\n",
    "dfr = ss.read"
   ]
  },
  {
   "cell_type": "code",
   "execution_count": 14,
   "metadata": {},
   "outputs": [],
   "source": [
    "#Read csv file into a datframe object\n",
    "df = dfr.csv(\"C:/Users/sgove/OneDrive/Desktop/all.csv\", header=True, inferSchema=True)"
   ]
  },
  {
   "cell_type": "code",
   "execution_count": 15,
   "metadata": {},
   "outputs": [
    {
     "name": "stdout",
     "output_type": "stream",
     "text": [
      "<class 'pyspark.sql.dataframe.DataFrame'>\n"
     ]
    }
   ],
   "source": [
    "#Save df in cache memory\n",
    "df.cache()\n",
    "print(type(df))"
   ]
  },
  {
   "cell_type": "code",
   "execution_count": 16,
   "metadata": {},
   "outputs": [
    {
     "data": {
      "text/plain": [
       "1893059"
      ]
     },
     "execution_count": 16,
     "metadata": {},
     "output_type": "execute_result"
    }
   ],
   "source": [
    "#Count number of records in the dataframe\n",
    "df.count()"
   ]
  },
  {
   "cell_type": "code",
   "execution_count": 17,
   "metadata": {},
   "outputs": [
    {
     "data": {
      "text/plain": [
       "['SYMBOL',\n",
       " 'SERIES',\n",
       " 'OPEN',\n",
       " 'HIGH',\n",
       " 'LOW',\n",
       " 'CLOSE',\n",
       " 'LAST',\n",
       " 'PREVCLOSE',\n",
       " 'TOTTRDQTY',\n",
       " 'TOTTRDVAL',\n",
       " 'TIMESTAMP',\n",
       " '_c11']"
      ]
     },
     "execution_count": 17,
     "metadata": {},
     "output_type": "execute_result"
    }
   ],
   "source": [
    "#See column names of the dataframe\n",
    "df.columns"
   ]
  },
  {
   "cell_type": "code",
   "execution_count": 18,
   "metadata": {},
   "outputs": [
    {
     "data": {
      "text/plain": [
       "[('SYMBOL', 'string'),\n",
       " ('SERIES', 'string'),\n",
       " ('OPEN', 'double'),\n",
       " ('HIGH', 'double'),\n",
       " ('LOW', 'double'),\n",
       " ('CLOSE', 'double'),\n",
       " ('LAST', 'double'),\n",
       " ('PREVCLOSE', 'double'),\n",
       " ('TOTTRDQTY', 'int'),\n",
       " ('TOTTRDVAL', 'double'),\n",
       " ('TIMESTAMP', 'string'),\n",
       " ('_c11', 'int')]"
      ]
     },
     "execution_count": 18,
     "metadata": {},
     "output_type": "execute_result"
    }
   ],
   "source": [
    "df.dtypes"
   ]
  },
  {
   "cell_type": "code",
   "execution_count": 20,
   "metadata": {},
   "outputs": [
    {
     "name": "stdout",
     "output_type": "stream",
     "text": [
      "+------+-------+\n",
      "|  OPEN|   HIGH|\n",
      "+------+-------+\n",
      "| 37.75|  37.75|\n",
      "| 43.75|   45.3|\n",
      "|3374.0|3439.95|\n",
      "| 281.8| 294.45|\n",
      "| 127.0|  132.0|\n",
      "+------+-------+\n",
      "only showing top 5 rows\n",
      "\n"
     ]
    }
   ],
   "source": [
    "#Apply SQL like functions on spark dataframe with functional programming\n",
    "df.select(\"OPEN\",\"HIGH\").show(5)"
   ]
  },
  {
   "cell_type": "code",
   "execution_count": 21,
   "metadata": {},
   "outputs": [
    {
     "name": "stdout",
     "output_type": "stream",
     "text": [
      "+---------+--------+----------+---------+\n",
      "|max(HIGH)|max(LOW)|max(CLOSE)|max(OPEN)|\n",
      "+---------+--------+----------+---------+\n",
      "| 116490.0|115500.0|  115899.0| 116480.0|\n",
      "+---------+--------+----------+---------+\n",
      "\n",
      "\n",
      "+---------+--------+----------+---------+\n",
      "|min(HIGH)|min(LOW)|min(CLOSE)|min(OPEN)|\n",
      "+---------+--------+----------+---------+\n",
      "|     0.05|    0.05|      0.05|     0.05|\n",
      "+---------+--------+----------+---------+\n",
      "\n",
      "\n",
      "+-----------------+------------------+------------------+-----------------+\n",
      "|        avg(HIGH)|          avg(LOW)|        avg(CLOSE)|        avg(OPEN)|\n",
      "+-----------------+------------------+------------------+-----------------+\n",
      "|366.7326563885202|356.00841225223786|360.86674629263746|361.2689533078383|\n",
      "+-----------------+------------------+------------------+-----------------+\n",
      "\n"
     ]
    }
   ],
   "source": [
    "#Using Aggregate functions on Spark Dataframe\n",
    "df.agg({\"OPEN\":\"max\",\"CLOSE\":\"max\",\"HIGH\":\"max\",\"LOW\":\"max\"}).show()\n",
    "print()\n",
    "df.agg({\"OPEN\":\"min\",\"CLOSE\":\"min\",\"HIGH\":\"min\",\"LOW\":\"min\"}).show()\n",
    "print()\n",
    "df.agg({\"OPEN\":\"mean\",\"CLOSE\":\"mean\",\"HIGH\":\"mean\",\"LOW\":\"mean\"}).show()"
   ]
  },
  {
   "cell_type": "code",
   "execution_count": 22,
   "metadata": {},
   "outputs": [
    {
     "name": "stdout",
     "output_type": "stream",
     "text": [
      "+------+------+-------+-------+-------+-------+-------+---------+---------+---------------+-----------+-----+\n",
      "|SYMBOL|SERIES|   OPEN|   HIGH|    LOW|  CLOSE|   LAST|PREVCLOSE|TOTTRDQTY|      TOTTRDVAL|  TIMESTAMP| _c11|\n",
      "+------+------+-------+-------+-------+-------+-------+---------+---------+---------------+-----------+-----+\n",
      "|   TCS|    EQ| 1295.0| 1309.8|1293.05|1302.95| 1300.3|   1295.9|   897809|1.16901054195E9|01-OCT-2012|35001|\n",
      "|   TCS|    EQ| 1301.0| 1325.0| 1301.0|1322.65| 1322.0|  1302.95|  1159115| 1.5272549353E9|03-OCT-2012|51635|\n",
      "|   TCS|    EQ| 1320.0|1321.65|1308.65|1317.15| 1319.0|  1322.65|   659642|  8.675407259E8|04-OCT-2012|24351|\n",
      "|   TCS|    EQ|1310.25|1319.35| 1055.0| 1304.0|1301.15|  1317.15|  1918055| 2.4666925933E9|05-OCT-2012|66953|\n",
      "|   TCS|    EQ| 1310.0|1315.25|1285.45| 1292.7| 1288.0|   1304.0|   842704| 1.0942989384E9|08-OCT-2012|45834|\n",
      "|   TCS|    EQ| 1297.9| 1298.8| 1285.0|1294.85| 1295.0|   1292.7|   645577| 8.3436310255E8|09-OCT-2012|27678|\n",
      "|   TCS|    EQ| 1286.0|1301.75| 1285.0|1289.35| 1289.0|  1294.85|   581989|  7.510198577E8|10-OCT-2012|24202|\n",
      "|   TCS|    EQ|1290.25|1301.55|1286.05|1289.45| 1291.8|  1289.35|   817763|  1.057618344E9|11-OCT-2012|36946|\n",
      "|   TCS|    EQ| 1278.8|1313.65| 1273.2|1298.45|1295.25|  1289.45|  1234771|1.59982859645E9|12-OCT-2012|53519|\n",
      "|   TCS|    EQ| 1294.0| 1302.4| 1287.5|1294.65| 1292.0|  1298.45|   407264|  5.269761515E8|15-OCT-2012|21452|\n",
      "|   TCS|    EQ| 1297.0| 1310.2| 1287.8| 1295.9| 1287.9|  1294.65|   641372|   8.34424376E8|16-OCT-2012|31394|\n",
      "|   TCS|    EQ| 1301.3| 1304.9| 1272.0|1283.15|1282.25|   1295.9|   798740|1.02521729305E9|17-OCT-2012|42375|\n",
      "|   TCS|    EQ|1286.25| 1311.0| 1280.2|1307.35|1306.45|  1283.15|   723564|  9.375248315E8|18-OCT-2012|32691|\n",
      "|   TCS|    EQ| 1309.0| 1311.4| 1282.0| 1289.7|1290.15|  1307.35|  1412808|1.82952822015E9|19-OCT-2012|55185|\n",
      "|   TCS|    EQ| 1325.1| 1334.9| 1303.0| 1318.9| 1318.9|   1289.7|  2698671| 3.5657183364E9|22-OCT-2012|77386|\n",
      "|   TCS|    EQ| 1324.0| 1324.0| 1311.9| 1314.6|1314.25|   1318.9|   568348| 7.4813517485E8|23-OCT-2012|21203|\n",
      "|   TCS|    EQ| 1315.0| 1323.9|1304.25|1315.35| 1318.0|   1314.6|  1127235| 1.4832011522E9|25-OCT-2012|38321|\n",
      "|   TCS|    EQ| 1306.2| 1322.0| 1306.2| 1315.3|1316.85|  1315.35|   523675|  6.888138407E8|26-OCT-2012|25695|\n",
      "|   TCS|    EQ| 1311.0| 1319.8| 1300.8| 1308.4|1308.75|   1315.3|   407814| 5.3381104295E8|29-OCT-2012|23756|\n",
      "|   TCS|    EQ| 1304.4| 1322.0| 1304.4| 1311.5| 1310.0|   1308.4|   402634| 5.2880832325E8|30-OCT-2012|16295|\n",
      "+------+------+-------+-------+-------+-------+-------+---------+---------+---------------+-----------+-----+\n",
      "only showing top 20 rows\n",
      "\n"
     ]
    }
   ],
   "source": [
    "#Using Where clause\n",
    "df.where(\"SYMBOL == 'TCS' and TIMESTAMP like '%OCT-2012'\").show()"
   ]
  },
  {
   "cell_type": "code",
   "execution_count": 23,
   "metadata": {},
   "outputs": [
    {
     "data": {
      "text/plain": [
       "0.9997560995948557"
      ]
     },
     "execution_count": 23,
     "metadata": {},
     "output_type": "execute_result"
    }
   ],
   "source": [
    "#Correlation coeffienct\n",
    "df.corr(\"OPEN\",\"CLOSE\")"
   ]
  },
  {
   "cell_type": "code",
   "execution_count": 24,
   "metadata": {},
   "outputs": [
    {
     "name": "stdout",
     "output_type": "stream",
     "text": [
      "+-------+------------------+------------------+------------------+------------------+\n",
      "|summary|              OPEN|             CLOSE|              HIGH|               LOW|\n",
      "+-------+------------------+------------------+------------------+------------------+\n",
      "|  count|           1893059|           1893059|           1893059|           1893059|\n",
      "|   mean| 361.2689533078383|360.86674629263746| 366.7326563885202|356.00841225223786|\n",
      "| stddev|1747.4329870382217|1743.8405876986792|1763.9932112529843|1728.5487526946383|\n",
      "|    min|              0.05|              0.05|              0.05|              0.05|\n",
      "|    max|          116480.0|          115899.0|          116490.0|          115500.0|\n",
      "+-------+------------------+------------------+------------------+------------------+\n",
      "\n"
     ]
    }
   ],
   "source": [
    "#Describe function dataframe\n",
    "df.select(\"OPEN\",\"CLOSE\",\"HIGH\",\"LOW\").describe().show()"
   ]
  },
  {
   "cell_type": "code",
   "execution_count": 25,
   "metadata": {},
   "outputs": [
    {
     "name": "stdout",
     "output_type": "stream",
     "text": [
      "+----------+---------+---------+--------+----------+---------+--------------+--------------+-----------------+---------+\n",
      "|    SYMBOL|max(OPEN)|max(HIGH)|max(LOW)|max(CLOSE)|max(LAST)|max(PREVCLOSE)|max(TOTTRDQTY)|   max(TOTTRDVAL)|max(_c11)|\n",
      "+----------+---------+---------+--------+----------+---------+--------------+--------------+-----------------+---------+\n",
      "|  GEODESIC|   136.95|   142.75|   134.0|     136.2|    136.4|         136.2|       7084723|    5.197036675E8|    37532|\n",
      "|  GODREJCP|   1418.9|   1459.0| 1391.15|    1408.4|   1415.0|        1408.4|      10360791|  6.04854060625E9|   108267|\n",
      "|       KGL|    38.35|    38.65|    37.1|     38.15|     38.4|         38.15|      77700950|  2.59301957275E9|    19179|\n",
      "| KIRLOSENG|   333.55|   345.05|   325.8|     330.1|    330.0|         330.1|       2040712|   2.8565836865E8|     8727|\n",
      "| KIRLOSIND|    742.0|    767.0|  728.65|    747.45|    759.0|        747.45|        197971|    7.325842715E7|     2892|\n",
      "|  KSBPUMPS|   749.95|    780.0|   727.0|     747.9|    743.0|         747.9|        570308|   1.9486527835E8|    21501|\n",
      "|        LT|  2180.65|   2212.7|  2160.3|   2172.85|   2180.0|       2172.85|       8766153|1.342530563495E10|   355511|\n",
      "| RUCHISOYA|    142.1|   142.45|   138.6|    141.05|   140.65|        141.05|      22257122|   2.0536357758E9|    63076|\n",
      "|   SIMPLEX|   345.95|   354.95|   336.0|    348.75|    346.8|        350.45|        186508|        9525548.0|     1031|\n",
      "|    STYABS|    902.0|    943.9|   886.0|    901.35|    901.0|        901.35|        248409|   2.2437759915E8|    11932|\n",
      "| MOLDTKPAC|   252.05|    253.8|   243.0|     250.2|    248.0|         250.2|        168614|    3.788688795E7|     3818|\n",
      "|  IPRU1795|    11.71|    11.71|   11.71|     11.71|    11.71|          11.0|        499999|       5854988.29|        1|\n",
      "|AMBICAAGAR|    14.95|    14.95|   14.25|     14.35|     14.4|         14.35|         19219|         251522.0|     null|\n",
      "|     CAIRN|    396.0|    401.1|   386.9|    391.55|    392.0|        391.55|     168418530| 5.45870831775E10|   187681|\n",
      "|ENGINERSIN|    370.0|    370.0|   355.1|    364.45|   364.05|        364.45|       5293745|   1.3778532208E9|    46859|\n",
      "|  ERAINFRA|    242.0|    243.8|  238.05|    241.45|   240.95|        241.45|       5569480|   2.5949412495E8|    10898|\n",
      "|       FDC|   193.95|   220.05|   188.5|     215.9|    218.0|        191.95|       6518850|   6.4655827545E8|    59320|\n",
      "|    GEMINI|     37.8|    38.55|    33.5|     35.45|     35.4|         35.45|       3865811|    1.256081671E8|    11060|\n",
      "| GRABALALK|     57.0|     58.0|    54.0|     56.05|    56.05|         56.05|        384395|    2.108103985E7|      441|\n",
      "|JAYSREETEA|    203.4|    207.7|   195.0|     201.5|    200.7|         201.5|       2202767|   4.1928398675E8|    24030|\n",
      "+----------+---------+---------+--------+----------+---------+--------------+--------------+-----------------+---------+\n",
      "only showing top 20 rows\n",
      "\n"
     ]
    }
   ],
   "source": [
    "#Group by \n",
    "df.groupBy(\"SYMBOL\").max().show()"
   ]
  },
  {
   "cell_type": "code",
   "execution_count": 26,
   "metadata": {},
   "outputs": [
    {
     "data": {
      "text/plain": [
       "[Row(SYMBOL='20MICRONS', SERIES='EQ', OPEN=37.75, HIGH=37.75, LOW=36.35, CLOSE=37.45, LAST=37.3, PREVCLOSE=37.15, TOTTRDQTY=38638, TOTTRDVAL=1420968.1, TIMESTAMP='01-APR-2011', _c11=None),\n",
       " Row(SYMBOL='3IINFOTECH', SERIES='EQ', OPEN=43.75, HIGH=45.3, LOW=43.75, CLOSE=44.9, LAST=44.8, PREVCLOSE=43.85, TOTTRDQTY=1239690, TOTTRDVAL=55311204.35, TIMESTAMP='01-APR-2011', _c11=None),\n",
       " Row(SYMBOL='3MINDIA', SERIES='EQ', OPEN=3374.0, HIGH=3439.95, LOW=3338.0, CLOSE=3397.5, LAST=3400.0, PREVCLOSE=3364.7, TOTTRDQTY=871, TOTTRDVAL=2941547.35, TIMESTAMP='01-APR-2011', _c11=None),\n",
       " Row(SYMBOL='A2ZMES', SERIES='EQ', OPEN=281.8, HIGH=294.45, LOW=279.8, CLOSE=289.2, LAST=287.2, PREVCLOSE=281.3, TOTTRDQTY=140643, TOTTRDVAL=40264075.5, TIMESTAMP='01-APR-2011', _c11=None),\n",
       " Row(SYMBOL='AARTIDRUGS', SERIES='EQ', OPEN=127.0, HIGH=132.0, LOW=126.55, CLOSE=131.3, LAST=130.6, PREVCLOSE=127.6, TOTTRDQTY=2972, TOTTRDVAL=384468.2, TIMESTAMP='01-APR-2011', _c11=None),\n",
       " Row(SYMBOL='AARTIIND', SERIES='EQ', OPEN=50.0, HIGH=50.0, LOW=49.0, CLOSE=49.25, LAST=49.35, PREVCLOSE=49.05, TOTTRDQTY=24056, TOTTRDVAL=1188195.85, TIMESTAMP='01-APR-2011', _c11=None),\n",
       " Row(SYMBOL='AARVEEDEN', SERIES='EQ', OPEN=58.45, HIGH=58.45, LOW=56.6, CLOSE=56.65, LAST=56.6, PREVCLOSE=56.55, TOTTRDQTY=123, TOTTRDVAL=7000.1, TIMESTAMP='01-APR-2011', _c11=None),\n",
       " Row(SYMBOL='ABAN', SERIES='EQ', OPEN=620.0, HIGH=645.95, LOW=617.0, CLOSE=643.3, LAST=644.0, PREVCLOSE=616.25, TOTTRDQTY=1192421, TOTTRDVAL=757452517.15, TIMESTAMP='01-APR-2011', _c11=None),\n",
       " Row(SYMBOL='ABB', SERIES='EQ', OPEN=796.8, HIGH=796.8, LOW=777.35, CLOSE=785.2, LAST=780.2, PREVCLOSE=796.8, TOTTRDQTY=58038, TOTTRDVAL=45620895.95, TIMESTAMP='01-APR-2011', _c11=None),\n",
       " Row(SYMBOL='ABBOTINDIA', SERIES='EQ', OPEN=1379.0, HIGH=1379.0, LOW=1335.05, CLOSE=1353.2, LAST=1355.0, PREVCLOSE=1343.05, TOTTRDQTY=587, TOTTRDVAL=793494.8, TIMESTAMP='01-APR-2011', _c11=None)]"
      ]
     },
     "execution_count": 26,
     "metadata": {},
     "output_type": "execute_result"
    }
   ],
   "source": [
    "#Convert Spark dataframe to rdd\n",
    "df.rdd.take(10)"
   ]
  },
  {
   "cell_type": "code",
   "execution_count": 29,
   "metadata": {},
   "outputs": [
    {
     "data": {
      "text/plain": [
       "37616"
      ]
     },
     "execution_count": 29,
     "metadata": {},
     "output_type": "execute_result"
    }
   ],
   "source": [
    "#Taking Sample from the Spark DataFrame\n",
    "df.sample(fraction=0.02, seed=3).count()"
   ]
  },
  {
   "cell_type": "code",
   "execution_count": 30,
   "metadata": {},
   "outputs": [
    {
     "name": "stdout",
     "output_type": "stream",
     "text": [
      "+-------+------------------+------------------+------------------+------------------+\n",
      "|summary|              OPEN|              HIGH|               LOW|             CLOSE|\n",
      "+-------+------------------+------------------+------------------+------------------+\n",
      "|  count|             37616|             37616|             37616|             37616|\n",
      "|   mean|365.03302078902584|370.62902993406794| 359.7573077945581|364.75487664823504|\n",
      "| stddev|1743.9119761381596|1761.3487886875632|1731.5701384892911| 1746.406333053236|\n",
      "|    min|              0.05|              0.05|              0.05|              0.05|\n",
      "|    25%|             24.75|              25.4|             24.05|              24.6|\n",
      "|    50%|              80.6|              82.7|             78.65|              80.4|\n",
      "|    75%|             266.3|             272.0|            260.95|             265.8|\n",
      "|    max|          113750.0|          113750.0|          113750.0|          113750.0|\n",
      "+-------+------------------+------------------+------------------+------------------+\n",
      "\n"
     ]
    }
   ],
   "source": [
    "#Applying Summary function on the field \n",
    "df.sample(fraction=0.02, seed=3).select(\"OPEN\",\"HIGH\",\"LOW\",\"CLOSE\").summary().show()"
   ]
  },
  {
   "cell_type": "code",
   "execution_count": 31,
   "metadata": {},
   "outputs": [],
   "source": [
    "#Create a temporary view so that it can be used as a SQL table\n",
    "df.createTempView(\"stocks\")"
   ]
  },
  {
   "cell_type": "code",
   "execution_count": 32,
   "metadata": {},
   "outputs": [
    {
     "name": "stdout",
     "output_type": "stream",
     "text": [
      "+---------+------+-------+-------+-------+-------+-------+---------+---------+---------------+-----------+-----+\n",
      "|   SYMBOL|SERIES|   OPEN|   HIGH|    LOW|  CLOSE|   LAST|PREVCLOSE|TOTTRDQTY|      TOTTRDVAL|  TIMESTAMP| _c11|\n",
      "+---------+------+-------+-------+-------+-------+-------+---------+---------+---------------+-----------+-----+\n",
      "|GEOMETRIC|    EQ|  62.35|   64.5|   61.4|  63.25|  63.25|     61.3|    82246|     5179345.65|01-APR-2011| null|\n",
      "|      TCS|    EQ| 1185.0|1198.75|1172.55|1180.15| 1181.9|   1183.9|   899812|1.06351115885E9|01-APR-2011| null|\n",
      "|GEOMETRIC|    EQ|  100.7|  105.5|   99.1|  103.5| 102.55|    100.2|   124482|   1.27532668E7|01-APR-2013| 2690|\n",
      "|      TCS|    EQ| 1565.0| 1573.7|1551.25|1556.85| 1552.1|  1575.75|   484406|  7.564599597E8|01-APR-2013|19638|\n",
      "|GEOMETRIC|    EQ|  116.0|  121.0|  116.0|  120.0|  120.2|   115.55|   644060|     7.701543E7|01-APR-2014| 6430|\n",
      "|      TCS|    EQ| 2145.0| 2185.0| 2144.9| 2176.7| 2175.4|  2133.15|  1377966| 2.9939665915E9|01-APR-2014|66536|\n",
      "|GEOMETRIC|    EQ|  166.5|  184.5|  163.0| 177.55|  177.4|   167.15|  2398121|  4.266710897E8|01-APR-2015|27112|\n",
      "|      TCS|    EQ| 2558.0| 2563.6|2522.25|2542.65|2544.05|  2553.95|  1037879|2.63498131745E9|01-APR-2015|54078|\n",
      "|GEOMETRIC|    EQ|   49.8|   50.1|  49.05|   49.9|   50.0|     48.9|    55376|     2765041.05|01-AUG-2011|  647|\n",
      "|      TCS|    EQ| 1142.4| 1149.9| 1125.1|1135.25| 1134.0|   1137.0|   991173|1.12551954835E9|01-AUG-2011|41634|\n",
      "|GEOMETRIC|    EQ|   94.4|  94.65|   90.4|   91.8|  91.95|     94.2|   887542|  8.233651615E7|01-AUG-2012|11097|\n",
      "|      TCS|    EQ| 1238.1| 1244.8| 1222.1|1224.65| 1224.0|  1243.65|   647875|  7.960636263E8|01-AUG-2012|29028|\n",
      "|GEOMETRIC|    EQ|  69.45|  70.05|   63.0|   64.1|   63.3|    69.45|   319336|  2.071869155E7|01-AUG-2013| 4063|\n",
      "|      TCS|    EQ|1810.05| 1834.8| 1790.0| 1815.4| 1816.0|   1815.5|  1070589|1.94671139555E9|01-AUG-2013|50550|\n",
      "|GEOMETRIC|    EQ|  141.2|  144.0|  139.5|  140.2|  140.5|    142.6|   291911|  4.129233735E7|01-AUG-2014| 3965|\n",
      "|      TCS|    EQ| 2575.0|2587.95| 2510.0| 2516.4| 2516.0|  2580.05|  1190941|3.03286071405E9|01-AUG-2014|59210|\n",
      "|GEOMETRIC|    EQ|   73.3|   73.6|  71.35|  72.35|   72.4|    72.15|   130567|      9479917.2|01-DEC-2010| null|\n",
      "|      TCS|    EQ| 1064.0| 1093.2| 1064.0| 1081.9| 1086.0|   1076.0|  1888016| 2.0446230315E9|01-DEC-2010| null|\n",
      "|GEOMETRIC|    EQ|   45.9|   48.9|   45.5|   47.2|   47.0|     45.0|   124440|      5906044.7|01-DEC-2011| 1101|\n",
      "|      TCS|    EQ| 1140.0|1148.55| 1126.2| 1134.8|1134.85|  1115.55|  1240724| 1.4073530237E9|01-DEC-2011|36547|\n",
      "+---------+------+-------+-------+-------+-------+-------+---------+---------+---------------+-----------+-----+\n",
      "only showing top 20 rows\n",
      "\n"
     ]
    }
   ],
   "source": [
    "ss.sql(\"select * from stocks where SYMBOL IN ('TCS','GEOMETRIC')\").show()"
   ]
  },
  {
   "cell_type": "code",
   "execution_count": 33,
   "metadata": {},
   "outputs": [
    {
     "name": "stdout",
     "output_type": "stream",
     "text": [
      "+------------------+\n",
      "|PEARSON_CORR_CLOSE|\n",
      "+------------------+\n",
      "|0.9997560995948557|\n",
      "+------------------+\n",
      "\n"
     ]
    }
   ],
   "source": [
    "ss.sql(\"SELECT CORR(CLOSE,OPEN) AS PEARSON_CORR_CLOSE FROM stocks\").show()"
   ]
  },
  {
   "cell_type": "code",
   "execution_count": 34,
   "metadata": {},
   "outputs": [],
   "source": [
    "#Save a Spark DataFrame as a CSV file on your System\n",
    "a = ss.sql(\"select * from stocks where SYMBOL IN ('TCS','GEOMETRIC')\")\n",
    "a.write.option(\"header\",True).csv(\"C:/Users/sgove/OneDrive/Desktop/sahbbir\")"
   ]
  },
  {
   "cell_type": "code",
   "execution_count": null,
   "metadata": {},
   "outputs": [],
   "source": []
  }
 ],
 "metadata": {
  "kernelspec": {
   "display_name": "Python 3",
   "language": "python",
   "name": "python3"
  },
  "language_info": {
   "codemirror_mode": {
    "name": "ipython",
    "version": 3
   },
   "file_extension": ".py",
   "mimetype": "text/x-python",
   "name": "python",
   "nbconvert_exporter": "python",
   "pygments_lexer": "ipython3",
   "version": "3.8.2"
  }
 },
 "nbformat": 4,
 "nbformat_minor": 4
}
